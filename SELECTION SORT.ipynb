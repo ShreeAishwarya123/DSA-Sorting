{
 "cells": [
  {
   "cell_type": "code",
   "execution_count": 1,
   "id": "74f54a21-5221-428c-9c9e-d595c2f7da3e",
   "metadata": {},
   "outputs": [
    {
     "name": "stdout",
     "output_type": "stream",
     "text": [
      "[2, 10, 23, 5, 18]\n",
      "[2, 5, 23, 10, 18]\n",
      "[2, 5, 10, 23, 18]\n",
      "[2, 5, 10, 18, 23]\n",
      "[2, 5, 10, 18, 23]\n"
     ]
    }
   ],
   "source": [
    "a=[5,10,23,2,18]\n",
    "\n",
    "for i in range(len(a)):\n",
    "    minval=a[i]\n",
    "    mini=i\n",
    "    for j in range(i+1,len(a)):\n",
    "        \n",
    "        if minval>a[j]:\n",
    "            minval=a[j]\n",
    "            minj=j    \n",
    "    a[mini],a[minj]=a[minj],a[mini]\n",
    "    print(a)\n",
    "\n"
   ]
  },
  {
   "cell_type": "code",
   "execution_count": null,
   "id": "83b62393-b166-40a7-8675-87df35922324",
   "metadata": {},
   "outputs": [],
   "source": []
  }
 ],
 "metadata": {
  "kernelspec": {
   "display_name": "Python 3 (ipykernel)",
   "language": "python",
   "name": "python3"
  },
  "language_info": {
   "codemirror_mode": {
    "name": "ipython",
    "version": 3
   },
   "file_extension": ".py",
   "mimetype": "text/x-python",
   "name": "python",
   "nbconvert_exporter": "python",
   "pygments_lexer": "ipython3",
   "version": "3.12.4"
  }
 },
 "nbformat": 4,
 "nbformat_minor": 5
}
